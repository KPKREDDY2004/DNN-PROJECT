{
 "cells": [
  {
   "cell_type": "code",
   "execution_count": null,
   "id": "9e0c0c68",
   "metadata": {},
   "outputs": [
    {
     "name": "stdout",
     "output_type": "stream",
     "text": [
      "Epoch 1, Loss: 1.0893\n",
      "Epoch 2, Loss: 0.5965\n",
      "Epoch 3, Loss: 0.3874\n"
     ]
    }
   ],
   "source": [
    "\n",
    "import torch\n",
    "from torch.utils.data import DataLoader\n",
    "from torchvision import datasets, transforms, models\n",
    "import torch.nn as nn\n",
    "import os\n",
    "\n",
    "\n",
    "data_dir = \"train\"\n",
    "transform = transforms.Compose([\n",
    "    transforms.Resize((224, 224)),\n",
    "    transforms.ToTensor()\n",
    "])\n",
    "dataset = datasets.ImageFolder(data_dir, transform=transform)\n",
    "dataloader = DataLoader(dataset, batch_size=16, shuffle=True)\n",
    "class_names = dataset.classes\n",
    "\n",
    "\n",
    "model = models.resnet18(pretrained=True)\n",
    "model.fc = nn.Linear(model.fc.in_features, len(class_names))\n",
    "\n",
    "device = torch.device(\"cuda\" if torch.cuda.is_available() else \"cpu\")\n",
    "model = model.to(device)\n",
    "\n",
    "\n",
    "criterion = nn.CrossEntropyLoss()\n",
    "optimizer = torch.optim.Adam(model.parameters(), lr=1e-4)\n",
    "\n",
    "\n",
    "model.train()\n",
    "for epoch in range(3):\n",
    "    for images, labels in dataloader:\n",
    "        images, labels = images.to(device), labels.to(device)\n",
    "        outputs = model(images)\n",
    "        loss = criterion(outputs, labels)\n",
    "\n",
    "        optimizer.zero_grad()\n",
    "        loss.backward()\n",
    "        optimizer.step()\n",
    "\n",
    "    print(f\"Epoch {epoch+1}, Loss: {loss.item():.4f}\")\n",
    "\n",
    "\n",
    "torch.save(model.state_dict(), \"skin_model.pth\")\n",
    "with open(\"class_names.txt\", \"w\") as f:\n",
    "    for name in class_names:\n",
    "        f.write(name + \"\\n\")\n"
   ]
  },
  {
   "cell_type": "code",
   "execution_count": null,
   "id": "be14d83a",
   "metadata": {},
   "outputs": [
    {
     "name": "stderr",
     "output_type": "stream",
     "text": [
      "C:\\Users\\shuba\\AppData\\Local\\Packages\\PythonSoftwareFoundation.Python.3.12_qbz5n2kfra8p0\\LocalCache\\local-packages\\Python312\\site-packages\\torchvision\\models\\_utils.py:223: UserWarning: Arguments other than a weight enum or `None` for 'weights' are deprecated since 0.13 and may be removed in the future. The current behavior is equivalent to passing `weights=None`.\n",
      "  warnings.warn(msg)\n"
     ]
    },
    {
     "name": "stdout",
     "output_type": "stream",
     "text": [
      "Accuracy: 85.64%\n"
     ]
    }
   ],
   "source": [
    "\n",
    "import torch\n",
    "from torchvision import datasets, transforms, models\n",
    "from torch.utils.data import DataLoader\n",
    "import torch.nn as nn\n",
    "\n",
    "\n",
    "val_dir = \"val\"\n",
    "transform = transforms.Compose([\n",
    "    transforms.Resize((224, 224)),\n",
    "    transforms.ToTensor()\n",
    "])\n",
    "dataset = datasets.ImageFolder(val_dir, transform=transform)\n",
    "dataloader = DataLoader(dataset, batch_size=16)\n",
    "\n",
    "with open(\"class_names.txt\") as f:\n",
    "    class_names = [line.strip() for line in f]\n",
    "\n",
    "\n",
    "model = models.resnet18(pretrained=False)\n",
    "model.fc = nn.Linear(model.fc.in_features, len(class_names))\n",
    "model.load_state_dict(torch.load(\"skin_model.pth\"))\n",
    "device = torch.device(\"cuda\" if torch.cuda.is_available() else \"cpu\")\n",
    "model = model.to(device)\n",
    "\n",
    "\n",
    "model.eval()\n",
    "correct = 0\n",
    "total = 0\n",
    "with torch.no_grad():\n",
    "    for images, labels in dataloader:\n",
    "        images, labels = images.to(device), labels.to(device)\n",
    "        outputs = model(images)\n",
    "        preds = torch.argmax(outputs, 1)\n",
    "        correct += (preds == labels).sum().item()\n",
    "        total += labels.size(0)\n",
    "\n",
    "print(f\"Accuracy: {100 * correct / total:.2f}%\")\n"
   ]
  },
  {
   "cell_type": "code",
   "execution_count": null,
   "id": "7a2816ea",
   "metadata": {},
   "outputs": [
    {
     "name": "stderr",
     "output_type": "stream",
     "text": [
      "C:\\Users\\shuba\\AppData\\Local\\Packages\\PythonSoftwareFoundation.Python.3.12_qbz5n2kfra8p0\\LocalCache\\local-packages\\Python312\\site-packages\\torchvision\\models\\_utils.py:208: UserWarning: The parameter 'pretrained' is deprecated since 0.13 and may be removed in the future, please use 'weights' instead.\n",
      "  warnings.warn(\n",
      "C:\\Users\\shuba\\AppData\\Local\\Packages\\PythonSoftwareFoundation.Python.3.12_qbz5n2kfra8p0\\LocalCache\\local-packages\\Python312\\site-packages\\torchvision\\models\\_utils.py:223: UserWarning: Arguments other than a weight enum or `None` for 'weights' are deprecated since 0.13 and may be removed in the future. The current behavior is equivalent to passing `weights=None`.\n",
      "  warnings.warn(msg)\n"
     ]
    },
    {
     "name": "stdout",
     "output_type": "stream",
     "text": [
      "Predicted Class: Melanoma\n",
      "Generated Report: The image indicates Melanoma, a serious form of skin cancer. Immediate dermatological evaluation is advised.\n"
     ]
    }
   ],
   "source": [
    "\n",
    "import torch\n",
    "from torchvision import transforms, models\n",
    "from PIL import Image\n",
    "import sys\n",
    "\n",
    "\n",
    "templates = {\n",
    "    \"Melanoma\": \"The image indicates Melanoma, a serious form of skin cancer. Immediate dermatological evaluation is advised.\",\n",
    "    \"Actinic keratosis\": \"Features are consistent with Actinic Keratosis, a precancerous skin lesion caused by sun exposure.\",\n",
    "    \"Benign keratosis\": \"This appears to be Benign Keratosis, which is typically non-cancerous and harmless.\",\n",
    "    \"Dermatofibroma\": \"The lesion resembles a Dermatofibroma, a common benign skin nodule.\",\n",
    "    \"Melanocytic nevus\": \"The image shows a Melanocytic Nevus, a type of mole, usually benign.\",\n",
    "    \"Squamous cell carcinoma\": \"Signs point to Squamous Cell Carcinoma, a type of skin cancer requiring medical treatment.\",\n",
    "    \"Tinea Ringworm Candidiasis\": \"The image resembles a fungal infection like Tinea or Candidiasis, often treatable with antifungal agents.\",\n",
    "    \"Atopic Dermatitis\": \"The features are typical of Atopic Dermatitis, a chronic inflammatory skin condition.\",\n",
    "    \"Vascular lesion\": \"Indications of a Vascular Lesion, usually benign, but may need further evaluation depending on symptoms.\",\n",
    "}\n",
    "\n",
    "\n",
    "with open(\"class_names.txt\") as f:\n",
    "    class_names = [line.strip() for line in f]\n",
    "\n",
    "\n",
    "model = models.resnet18(pretrained=False)\n",
    "model.fc = torch.nn.Linear(model.fc.in_features, len(class_names))\n",
    "model.load_state_dict(torch.load(\"skin_model.pth\"))\n",
    "device = torch.device(\"cuda\" if torch.cuda.is_available() else \"cpu\")\n",
    "model = model.to(device)\n",
    "model.eval()\n",
    "\n",
    "\n",
    "transform = transforms.Compose([\n",
    "    transforms.Resize((224, 224)),\n",
    "    transforms.ToTensor()\n",
    "])\n",
    "\n",
    "\n",
    "def predict(image_path):\n",
    "    image = Image.open(image_path).convert(\"RGB\")\n",
    "    image = transform(image).unsqueeze(0).to(device)\n",
    "    with torch.no_grad():\n",
    "        output = model(image)\n",
    "        pred = torch.argmax(output, 1).item()\n",
    "        class_name = class_names[pred]\n",
    "        report = templates.get(class_name, \"No report available.\")\n",
    "        return class_name, report\n",
    "\n",
    "\n",
    "image_path = \"predict/melanoma.jpg\"  \n",
    "disease, report = predict(image_path)\n",
    "print(\"Predicted Class:\", disease)\n",
    "print(\"Generated Report:\", report)"
   ]
  }
 ],
 "metadata": {
  "kernelspec": {
   "display_name": "Python 3",
   "language": "python",
   "name": "python3"
  },
  "language_info": {
   "codemirror_mode": {
    "name": "ipython",
    "version": 3
   },
   "file_extension": ".py",
   "mimetype": "text/x-python",
   "name": "python",
   "nbconvert_exporter": "python",
   "pygments_lexer": "ipython3",
   "version": "3.12.10"
  }
 },
 "nbformat": 4,
 "nbformat_minor": 5
}
